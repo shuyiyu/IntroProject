{
 "cells": [
  {
   "cell_type": "code",
   "execution_count": 32,
   "metadata": {},
   "outputs": [],
   "source": [
    "# Initial setup\n",
    "import pandas as pd\n",
    "import numpy as np\n",
    "import json\n",
    "import warnings\n",
    "warnings.filterwarnings('ignore')\n",
    "\n",
    "df_full = pd.read_json('yelp_academic_dataset_business.json', lines = True)\n",
    "tip = pd.read_json('yelp_academic_dataset_tip.json', lines = True)"
   ]
  },
  {
   "cell_type": "markdown",
   "metadata": {},
   "source": [
    "## 1. Data Preprocessing\n",
    "In this section, we will transform the Yelp dataset and produce the format required for data mining and modeling through the following steps:\n",
    "\n",
    "- Filter to U.S. restaurants that were opened in 2016\n",
    "- Flatten attributes and categories\n",
    "- Transform categorical variables into dummy variables\n",
    "- Handling missing values"
   ]
  },
  {
   "cell_type": "code",
   "execution_count": 33,
   "metadata": {},
   "outputs": [],
   "source": [
    "# Filter to U.S. restaurants that were opened in 2016\n",
    "# 1) Filter to U.S. businesses\n",
    "zip_crosswalk = pd.read_csv('zip_crosswalk.csv')\n",
    "# Transform digit-only postal code to int\n",
    "digit_only = df_full['postal_code'].map(lambda x: True if all(i.isdigit() for i in x) else False)\n",
    "df_full = df_full[(digit_only) & (df_full['postal_code'] != '')]\n",
    "df_full['postal_code_int'] = [int(x) for x in df_full['postal_code']]\n",
    "# Join crosswalk by zip and state\n",
    "df = pd.merge(df_full, zip_crosswalk[['ZIP', 'STATE']], \n",
    "              left_on = ['postal_code_int', 'state'],\n",
    "              right_on = ['ZIP', 'STATE'])\n",
    "\n",
    "# 2) Filter to restaurants\n",
    "df = df[df['categories'].str.contains('Restaurants|Food', na = False)]\n",
    "\n",
    "# 3) Filter to restaurants that were opened in 2016\n",
    "start = '2015-01-01'\n",
    "end = '2016-12-31'\n",
    "tip = tip.groupby('business_id')['date'].min().reset_index()\n",
    "tip = tip[(tip['date'] >= start) & (tip['date'] <= end)]\n",
    "df = pd.merge(tip, df, on = 'business_id')"
   ]
  },
  {
   "cell_type": "code",
   "execution_count": 34,
   "metadata": {
    "scrolled": true
   },
   "outputs": [
    {
     "data": {
      "image/png": "[encoded data removed]",
      "text/plain": [
       "<matplotlib.figure.Figure at 0x10fb0a898>"
      ]
     },
     "metadata": {},
     "output_type": "display_data"
    }
   ],
   "source": [
    "# Check geological distribution\n",
    "import seaborn as sns\n",
    "import matplotlib.pyplot as plt\n",
    "fig = plt.figure(figsize=(15, 5))\n",
    "df.groupby('state')['business_id'].count().plot(kind = 'bar')\n",
    "plt.show()"
   ]
  },
  {
   "cell_type": "code",
   "execution_count": 35,
   "metadata": {},
   "outputs": [
    {
     "data": {
      "image/png": "[encoded data removed]",
      "text/plain": [
       "<matplotlib.figure.Figure at 0x111e50588>"
      ]
     },
     "metadata": {},
     "output_type": "display_data"
    }
   ],
   "source": [
    "# Check restaurant closure\n",
    "df.groupby('is_open')['business_id'].count().plot(kind = 'bar')\n",
    "plt.show()"
   ]
  },
  {
   "cell_type": "code",
   "execution_count": 36,
   "metadata": {},
   "outputs": [],
   "source": [
    "# Flatten attributes and categories"
   ]
  },
  {
   "cell_type": "code",
   "execution_count": 37,
   "metadata": {},
   "outputs": [],
   "source": [
    "# Transform categorical variables into dummy"
   ]
  },
  {
   "cell_type": "code",
   "execution_count": 38,
   "metadata": {},
   "outputs": [],
   "source": [
    "# Handling missing values"
   ]
  },
  {
   "cell_type": "markdown",
   "metadata": {
    "collapsed": true
   },
   "source": [
    "## 2. External Data\n",
    "In this section, we will integrate the following external data sources to the Yelp dataset:\n",
    "- Zillow property price data\n",
    "- Demographic data by zip code"
   ]
  },
  {
   "cell_type": "code",
   "execution_count": 39,
   "metadata": {},
   "outputs": [],
   "source": [
    "# Zillow"
   ]
  },
  {
   "cell_type": "code",
   "execution_count": 40,
   "metadata": {},
   "outputs": [],
   "source": [
    "from uszipcode import SearchEngine\n",
    "zipcodes = df['postal_code'].unique()\n",
    "keys = ['zipcode', 'housing_units', 'land_area_in_sqmi', 'median_home_value', 'median_household_income', \\\n",
    "        'occupied_housing_units', 'population', 'population_density', 'annual_individual_earnings', \\\n",
    "        'educational_attainment_for_population_25_and_over', 'employment_status', 'families_vs_singles', \\\n",
    "        'households_with_kids', 'housing_occupancy', 'means_of_transportation_to_work_for_workers_16_and_over', \\\n",
    "        'population_by_age', 'population_by_gender', 'population_by_race', 'travel_time_to_work_in_minutes']\n",
    "lst = []\n",
    "for zipcode in zipcodes:\n",
    "    search = SearchEngine(simple_zipcode=False) \n",
    "    item = search.by_zipcode(zipcode)\n",
    "    newDict  = item.to_dict()\n",
    "    lst.append([newDict.get(key) for key in keys])\n",
    "keys[0] = 'postal_code'\n",
    "df_demograph = pd.DataFrame(lst, columns=keys)\n",
    "df = pd.merge(df, df_demograph, on='postal_code', how='inner')"
   ]
  },
  {
   "cell_type": "markdown",
   "metadata": {
    "collapsed": true
   },
   "source": [
    "## 3. Feature Engineering\n",
    "In this section, we will perform feature engineering to extract the following attributes:\n",
    "- Restaurant density and competition level in the neighborhood\n",
    "- Whether a given restaurant belong to a local/national chain"
   ]
  },
  {
   "cell_type": "code",
   "execution_count": 41,
   "metadata": {},
   "outputs": [],
   "source": [
    "# Restaurant density"
   ]
  },
  {
   "cell_type": "code",
   "execution_count": 42,
   "metadata": {},
   "outputs": [],
   "source": [
    "# Chain"
   ]
  }
 ],
 "metadata": {
  "kernelspec": {
   "display_name": "Python 3",
   "language": "python",
   "name": "python3"
  },
  "language_info": {
   "codemirror_mode": {
    "name": "ipython",
    "version": 3
   },
   "file_extension": ".py",
   "mimetype": "text/x-python",
   "name": "python",
   "nbconvert_exporter": "python",
   "pygments_lexer": "ipython3",
   "version": "3.6.4"
  }
 },
 "nbformat": 4,
 "nbformat_minor": 2
}
