{
 "cells": [
  {
   "cell_type": "code",
   "execution_count": null,
   "metadata": {},
   "outputs": [],
   "source": [
    "# Initial setup\n",
    "import pandas as pd\n",
    "import numpy as np\n",
    "import json\n",
    "import warnings\n",
    "warnings.filterwarnings('ignore')\n",
    "\n",
    "df_full = pd.read_json('yelp_academic_dataset_business.json', lines = True)\n",
    "tip = pd.read_json('yelp_academic_dataset_tip.json', lines = True)"
   ]
  },
  {
   "cell_type": "markdown",
   "metadata": {},
   "source": [
    "## 1. Data Preprocessing\n",
    "In this section, we will transform the Yelp dataset and produce the format required for data mining and modeling through the following steps:\n",
    "\n",
    "- Filter to U.S. restaurants that were opened in 2016\n",
    "- Flatten attributes and categories\n",
    "- Transform categorical variables into dummy variables\n",
    "- Handling missing values"
   ]
  },
  {
   "cell_type": "code",
   "execution_count": 205,
   "metadata": {
    "collapsed": true
   },
   "outputs": [],
   "source": [
    "# Filter to U.S. restaurants that were opened in 2016\n",
    "# 1) Filter to U.S. businesses\n",
    "zip_crosswalk = pd.read_csv('zip_crosswalk.csv')\n",
    "zip_crosswalk = zip_crosswalk.drop_duplicates(subset = ['ZIP', 'STATE'], keep = False)[['ZIP', 'STATE']]\n",
    "# Transform digit-only postal code to int\n",
    "digit_only = df_full['postal_code'].map(lambda x: True if all(i.isdigit() for i in x) else False)\n",
    "df_full = df_full[(digit_only) & (df_full['postal_code'] != '')]\n",
    "df_full['postal_code_int'] = [int(x) for x in df_full['postal_code']]\n",
    "# Join crosswalk by zip and state\n",
    "df_us = pd.merge(df_full, zip_crosswalk[['ZIP', 'STATE']], \n",
    "              left_on = ['postal_code_int', 'state'],\n",
    "              right_on = ['ZIP', 'STATE'])\n",
    "\n",
    "# 2) Filter to restaurants\n",
    "df_us = df_us[df_us['categories'].str.contains('Restaurants|Food', na = False)]\n",
    "df_us.set_index('business_id')\n",
    "\n",
    "# 3) Filter to restaurants that were opened in 2016\n",
    "start = '2016-01-01'\n",
    "end = '2016-12-31'\n",
    "tip = tip.groupby('business_id')['date'].min().reset_index()\n",
    "tip = tip[(tip['date'] >= start) & (tip['date'] <= end)]\n",
    "df = pd.merge(tip, df_us, on = 'business_id', how = 'inner')"
   ]
  },
  {
   "cell_type": "code",
   "execution_count": 206,
   "metadata": {
    "scrolled": true
   },
   "outputs": [
    {
     "data": {
      "image/png": "[encoded data removed]",
      "text/plain": [
       "<matplotlib.figure.Figure at 0x124ace438>"
      ]
     },
     "metadata": {},
     "output_type": "display_data"
    }
   ],
   "source": [
    "# Check geological distribution\n",
    "import seaborn as sns\n",
    "import matplotlib.pyplot as plt\n",
    "fig = plt.figure(figsize=(15, 5))\n",
    "df.groupby('state')['business_id'].count().plot(kind = 'bar')\n",
    "plt.show()"
   ]
  },
  {
   "cell_type": "code",
   "execution_count": 207,
   "metadata": {},
   "outputs": [
    {
     "name": "stdout",
     "output_type": "stream",
     "text": [
      "Total data points in df: 2914\n",
      "Total data points in df after removing a few states: 2827\n"
     ]
    }
   ],
   "source": [
    "# Drop states with few data points\n",
    "state_list = ['AZ', 'NC', 'NV', 'OH', 'PA', 'WI']\n",
    "print('Total data points in df:', len(df))\n",
    "df = df[np.in1d(df['state'], state_list)].reset_index()\n",
    "print('Total data points in df after removing a few states:', len(df))"
   ]
  },
  {
   "cell_type": "code",
   "execution_count": 208,
   "metadata": {},
   "outputs": [
    {
     "data": {
      "image/png": "[encoded data removed]",
      "text/plain": [
       "<matplotlib.figure.Figure at 0x122eba8d0>"
      ]
     },
     "metadata": {},
     "output_type": "display_data"
    }
   ],
   "source": [
    "# Check restaurant closure\n",
    "df.groupby('is_open')['business_id'].count().plot(kind = 'bar')\n",
    "plt.show()"
   ]
  },
  {
   "cell_type": "code",
   "execution_count": 209,
   "metadata": {
    "collapsed": true
   },
   "outputs": [],
   "source": [
    "# Flatten attributes and categories\n",
    "# 1) Categories\n",
    "from collections import Counter\n",
    "# Extract categories from list of lists\n",
    "cat = ', '.join(df['categories'])\n",
    "# Count frequency\n",
    "counter = Counter(cat.split(', '))\n",
    "# Append categories as dummies\n",
    "for cat in list(counter.keys()):\n",
    "    df[cat] = np.where(df['categories'].str.contains(cat), 1, 0)\n",
    "df.drop('categories', inplace = True, axis = 1)"
   ]
  },
  {
   "cell_type": "code",
   "execution_count": 210,
   "metadata": {},
   "outputs": [],
   "source": [
    "# 2) Attributes\n",
    "# Unuseful attributes to be dropped\n",
    "drop_list = ['AcceptsInsurance', 'AgesAllowed', 'Ambience', 'DietaryRestrictions',\n",
    "             'BestNights', 'BikeParking', 'BusinessAcceptsBitcoin', 'Music', 'ByAppointmentOnly',\n",
    "             'CoatCheck', 'DogsAllowed' , 'DriveThru', 'GoodForDancing', 'Smoking', 'BusinessParking', 'GoodForMeal']\n",
    "# Flattening\n",
    "att = df['attributes'].apply(pd.Series)\n",
    "meal = att['GoodForMeal'].fillna(\"{'dessert': False, 'latenight': False, 'lunch': False, 'dinner': False, 'breakfast': False, 'brunch': False}\")\n",
    "parking = att['BusinessParking'].fillna(\"{'garage': False, 'street': True, 'validated': False, 'lot': False, 'valet': False}\")\n",
    "parking_list = ['garage', 'street', 'validated', 'lot', 'valet']\n",
    "meal_list = ['dessert', 'latenight', 'lunch', 'dinner', 'breakfast', 'brunch']\n",
    "\n",
    "# Define a function to flatten json lists\n",
    "import ast\n",
    "def flatten_json(df, col):\n",
    "    for i in range(len(col)):\n",
    "        json_dict = ast.literal_eval(col[i])\n",
    "        for j in json_dict.keys():\n",
    "            df[j] = np.where(json_dict[j], 1, 0) \n",
    "            \n",
    "flatten_json(df = att, col = parking)\n",
    "flatten_json(df = att, col = meal)\n",
    "\n",
    "# Handle missing value in attributes\n",
    "att['Alcohol'].fillna('none', inplace = True)\n",
    "att['NoiseLevel'].fillna('average', inplace = True)\n",
    "att['RestaurantsAttire'].fillna('casual', inplace = True)\n",
    "att['WiFi'].fillna('no', inplace = True)\n",
    "att['RestaurantsPriceRange2'].fillna(0, inplace = True)\n",
    "\n",
    "# Transform attributes into dummy variables\n",
    "att = att.drop(drop_list, axis = 1).fillna(value = False)\n",
    "att = pd.get_dummies(att, drop_first = True)\n",
    "\n",
    "# Append attributes to main dataframe\n",
    "df = pd.merge(df, att, left_index = True, right_index = True)\n",
    "df.drop('attributes', axis = 1, inplace = True)"
   ]
  },
  {
   "cell_type": "markdown",
   "metadata": {
    "collapsed": true
   },
   "source": [
    "## 2. External Data\n",
    "In this section, we will integrate the following external data sources to the Yelp dataset:\n",
    "- Zillow property price data\n",
    "- Demographic data by zip code"
   ]
  },
  {
   "cell_type": "code",
   "execution_count": 211,
   "metadata": {
    "collapsed": true
   },
   "outputs": [],
   "source": [
    "# Zillow\n",
    "zillow = pd.read_csv('zillow_median_price.csv', encoding='cp1252')\n",
    "# Extract zipcodes\n",
    "zipcodes = df['postal_code'].unique()\n",
    "df['postal_code_int'] = [int(i) for i in df['postal_code']]\n",
    "house_price = zillow[np.in1d(zillow['RegionName'], \n",
    "                             df['postal_code_int'])][['RegionName', '2016-01']]\n",
    "house_price.columns = ['postal_code_int', 'median_sqft_price']\n",
    "# Append median house price to main df\n",
    "df = pd.merge(df, house_price, on = 'postal_code_int', how = 'left')\n",
    "df['median_sqft_price'] = df['median_sqft_price'].fillna(df['median_sqft_price'].median())"
   ]
  },
  {
   "cell_type": "code",
   "execution_count": 212,
   "metadata": {
    "collapsed": true
   },
   "outputs": [],
   "source": [
    "# Add zip-level demographics\n",
    "from uszipcode import SearchEngine\n",
    "keys = ['zipcode', 'housing_units', 'land_area_in_sqmi', 'median_home_value', 'median_household_income', \\\n",
    "        'occupied_housing_units', 'population', 'population_density', 'annual_individual_earnings', \\\n",
    "        'educational_attainment_for_population_25_and_over', 'employment_status', 'families_vs_singles', \\\n",
    "        'households_with_kids', 'housing_occupancy', 'means_of_transportation_to_work_for_workers_16_and_over', \\\n",
    "        'population_by_age', 'population_by_gender', 'population_by_race', 'travel_time_to_work_in_minutes']\n",
    "keep_col = ['housing_units', 'land_area_in_sqmi', 'median_home_value', 'median_household_income', \\\n",
    "            'occupied_housing_units', 'population', 'population_density', 'postal_code']\n",
    "lst = []\n",
    "for zipcode in zipcodes:\n",
    "    search = SearchEngine(simple_zipcode=False) \n",
    "    item = search.by_zipcode(zipcode)\n",
    "    newDict  = item.to_dict()\n",
    "    lst.append([newDict.get(key) for key in keys])\n",
    "keys[0] = 'postal_code'\n",
    "df_demograph = pd.DataFrame(lst, columns= keys)[keep_col]\n",
    "df = pd.merge(df, df_demograph, on = 'postal_code', how='inner')"
   ]
  },
  {
   "cell_type": "markdown",
   "metadata": {
    "collapsed": true
   },
   "source": [
    "## 3. Feature Engineering\n",
    "In this section, we will perform feature engineering to extract the following attributes:\n",
    "- Restaurant density and competition level in the neighborhood\n",
    "- Whether a given restaurant belong to a local/national chain"
   ]
  },
  {
   "cell_type": "code",
   "execution_count": 213,
   "metadata": {},
   "outputs": [
    {
     "data": {
      "text/plain": [
       "2827"
      ]
     },
     "execution_count": 213,
     "metadata": {},
     "output_type": "execute_result"
    }
   ],
   "source": [
    "len(df)"
   ]
  },
  {
   "cell_type": "code",
   "execution_count": 200,
   "metadata": {},
   "outputs": [],
   "source": [
    "# Restaurant density\n",
    "import geopy.distance\n",
    "business_id = []\n",
    "density = []\n",
    "avg_stars = []\n",
    "avg_review_count = []\n",
    "std_stars = []\n",
    "std_review_count = []\n",
    "\n",
    "# Collect a random sample from all U.S. restaurants\n",
    "df_us = df_us[np.in1d(df_us['state'], state_list)]\n",
    "df_us = df_us.dropna(subset = ['latitude', 'longitude'], axis = 0).reset_index()\n",
    "sample_us = df_us.drop_duplicates(subset=['latitude', 'longitude', 'stars', 'review_count']).sample(n = 10000).reset_index()"
   ]
  },
  {
   "cell_type": "code",
   "execution_count": null,
   "metadata": {},
   "outputs": [],
   "source": [
    "for i in range(len(df)):\n",
    "    print('Looping over', i, '...')\n",
    "    coord1 = [df.at[i, 'latitude'], df.at[i, 'longitude']]\n",
    "    count = 1\n",
    "    stars = 0\n",
    "    review_count = 0\n",
    "    for j in range(len(sample_us)):\n",
    "        coord2 = [sample_us.at[j, 'latitude'], sample_us.at[j, 'longitude']]\n",
    "        try:\n",
    "            distance = geopy.distance.vincenty(coord1, coord2).miles\n",
    "            if distance < 1:\n",
    "                count = count + 1\n",
    "                stars = stars + sample_us.at[j, 'stars']\n",
    "                review_count = review_count + sample_us.at[j, 'review_count']\n",
    "        except:\n",
    "            print('Error!')\n",
    "    business_id.append(df.at[i, 'business_id'])\n",
    "    density.append(count)\n",
    "    avg_stars.append(stars/count)\n",
    "    avg_review_count.append(review_count/count)"
   ]
  },
  {
   "cell_type": "code",
   "execution_count": 218,
   "metadata": {
    "collapsed": true
   },
   "outputs": [],
   "source": [
    "biz_density = pd.DataFrame({'business_id': business_id,\n",
    "                            'density' : density,\n",
    "                            'avg_stars' : avg_stars,\n",
    "                            'avg_review_count' : avg_review_count})\n",
    "df = pd.merge(df, biz_density, on = 'business_id')"
   ]
  },
  {
   "cell_type": "code",
   "execution_count": 223,
   "metadata": {},
   "outputs": [],
   "source": [
    "# Identify whether a given restaurant is a local or national chain\n",
    "local_chain = df.groupby(['state', 'name'])['business_id'].count().reset_index()\n",
    "local_chain.columns = ['state', 'name', 'count']\n",
    "local_chain['is_local_chain'] = np.where(local_chain['count'] > 1, 1, 0)\n",
    "\n",
    "national_chain = local_chain.groupby('name')['state'].count().reset_index()\n",
    "national_chain.columns = ['name', 'count']\n",
    "national_chain['is_national_chain'] = np.where(national_chain['count'] > 2, 1, 0)\n",
    "\n",
    "df = pd.merge(df, local_chain[['name', 'state', 'is_local_chain']], on = ['state','name'])\n",
    "df = pd.merge(df, national_chain[['name', 'is_national_chain']], on = ['name'])"
   ]
  },
  {
   "cell_type": "code",
   "execution_count": 228,
   "metadata": {},
   "outputs": [
    {
     "data": {
      "text/plain": [
       "['index',\n",
       " 'business_id',\n",
       " 'date',\n",
       " 'address',\n",
       " 'city',\n",
       " 'hours',\n",
       " 'is_open',\n",
       " 'latitude',\n",
       " 'longitude',\n",
       " 'name',\n",
       " 'neighborhood',\n",
       " 'postal_code',\n",
       " 'review_count',\n",
       " 'stars',\n",
       " 'state',\n",
       " 'postal_code_int',\n",
       " 'ZIP',\n",
       " 'STATE',\n",
       " 'Food',\n",
       " 'International Grocery',\n",
       " 'Grocery',\n",
       " 'Ethnic Grocery',\n",
       " 'Coffee & Tea',\n",
       " 'Ice Cream & Frozen Yogurt',\n",
       " 'Desserts',\n",
       " 'Juice Bars & Smoothies',\n",
       " 'Internet Cafes',\n",
       " 'Sandwiches',\n",
       " 'Burgers',\n",
       " 'American (Traditional)',\n",
       " 'Diners',\n",
       " 'Restaurants',\n",
       " 'Noodles',\n",
       " 'Italian',\n",
       " 'Asian Fusion',\n",
       " 'Comfort Food',\n",
       " 'Bars',\n",
       " 'Bar Crawl',\n",
       " 'Nightlife',\n",
       " 'Dive Bars',\n",
       " 'Indian',\n",
       " 'Sports Bars',\n",
       " 'Beer Bar',\n",
       " 'Barbeque',\n",
       " 'Food Trucks',\n",
       " 'Specialty Food',\n",
       " 'Distilleries',\n",
       " 'Tapas Bars',\n",
       " 'Cocktail Bars',\n",
       " 'Event Planning & Services',\n",
       " 'American (New)',\n",
       " 'Whiskey Bars',\n",
       " 'Venues & Event Spaces',\n",
       " 'Arts & Entertainment',\n",
       " 'Party & Event Planning',\n",
       " 'Shopping',\n",
       " 'Video Game Stores',\n",
       " 'Videos & Video Game Rental',\n",
       " 'Books',\n",
       " 'Mags',\n",
       " 'Music & Video',\n",
       " 'Arcades',\n",
       " 'Breakfast & Brunch',\n",
       " 'Cafes',\n",
       " 'Mediterranean',\n",
       " 'Middle Eastern',\n",
       " 'Vietnamese',\n",
       " 'Ethnic Food',\n",
       " 'Imported Food',\n",
       " 'Farmers Market',\n",
       " 'Fruits & Veggies',\n",
       " 'Gluten-Free',\n",
       " 'Health Markets',\n",
       " 'Steakhouses',\n",
       " 'Pizza',\n",
       " 'Chicken Wings',\n",
       " 'Food Stands',\n",
       " 'Cheese Shops',\n",
       " 'Beer',\n",
       " 'Wine & Spirits',\n",
       " 'Fast Food',\n",
       " 'Tacos',\n",
       " 'Seafood',\n",
       " 'Chicken Shop',\n",
       " 'Mexican',\n",
       " 'Delis',\n",
       " 'Tex-Mex',\n",
       " 'Tea Rooms',\n",
       " 'Taiwanese',\n",
       " 'Bubble Tea',\n",
       " 'Salad',\n",
       " 'Beauty & Spas',\n",
       " 'Convenience Stores',\n",
       " 'Gift Shops',\n",
       " 'Mobile Phone Accessories',\n",
       " 'Discount Store',\n",
       " 'Cosmetics & Beauty Supply',\n",
       " 'Flowers & Gifts',\n",
       " 'Tobacco Shops',\n",
       " 'Lounges',\n",
       " 'Wedding Chapels',\n",
       " 'Shopping Centers',\n",
       " 'Sushi Bars',\n",
       " 'Chinese',\n",
       " 'Caribbean',\n",
       " 'Organic Stores',\n",
       " 'Vitamins & Supplements',\n",
       " 'Greek',\n",
       " 'Donuts',\n",
       " 'British',\n",
       " 'Pubs',\n",
       " 'Cupcakes',\n",
       " 'Bakeries',\n",
       " 'Custom Cakes',\n",
       " 'Active Life',\n",
       " 'Laser Tag',\n",
       " 'Beer Gardens',\n",
       " 'Breweries',\n",
       " 'Vegan',\n",
       " 'Playgrounds',\n",
       " 'Kids Activities',\n",
       " 'Waffles',\n",
       " 'Automotive',\n",
       " 'Car Wash',\n",
       " 'Korean',\n",
       " 'Thai',\n",
       " 'Latin American',\n",
       " 'Pakistani',\n",
       " 'Halal',\n",
       " 'Karaoke',\n",
       " 'Gas Stations',\n",
       " 'Hot Dogs',\n",
       " 'Local Flavor',\n",
       " 'Auto Glass Services',\n",
       " 'Body Shops',\n",
       " 'Transmission Repair',\n",
       " 'Insurance',\n",
       " 'Oil Change Stations',\n",
       " 'Windshield Installation & Repair',\n",
       " 'Auto Repair',\n",
       " 'Auto Parts & Supplies',\n",
       " 'Towing',\n",
       " 'Auto Insurance',\n",
       " 'Financial Services',\n",
       " 'Vegetarian',\n",
       " 'Food Delivery Services',\n",
       " 'Soup',\n",
       " 'Meat Shops',\n",
       " 'Arabian',\n",
       " 'Japanese',\n",
       " 'Bagels',\n",
       " 'Gastropubs',\n",
       " 'Filipino',\n",
       " 'Salvadoran',\n",
       " 'Caterers',\n",
       " 'Southern',\n",
       " 'Wholesale Stores',\n",
       " 'Coffee Roasteries',\n",
       " 'Pool Halls',\n",
       " 'Cuban',\n",
       " 'French',\n",
       " 'Poke',\n",
       " 'Acai Bowls',\n",
       " 'Hawaiian',\n",
       " 'Soul Food',\n",
       " 'Candy Stores',\n",
       " 'Venezuelan',\n",
       " 'Lebanese',\n",
       " 'Seafood Markets',\n",
       " 'Shaved Ice',\n",
       " 'Tapas/Small Plates',\n",
       " 'Creperies',\n",
       " 'Street Vendors',\n",
       " 'Food Court',\n",
       " 'Smokehouse',\n",
       " 'Australian',\n",
       " 'Golf',\n",
       " 'Cantonese',\n",
       " 'Wine Bars',\n",
       " 'Spanish',\n",
       " 'Butcher',\n",
       " 'Speakeasies',\n",
       " 'Kosher',\n",
       " 'Cheesesteaks',\n",
       " 'Brazilian',\n",
       " 'Performing Arts',\n",
       " 'Fitness & Instruction',\n",
       " 'Dance Studios',\n",
       " 'Pretzels',\n",
       " 'Persian/Iranian',\n",
       " 'Afghan',\n",
       " 'Religious Organizations',\n",
       " 'Music Venues',\n",
       " 'Ethiopian',\n",
       " 'African',\n",
       " 'Ramen',\n",
       " 'Empanadas',\n",
       " 'Rock Climbing',\n",
       " 'Bowling',\n",
       " 'Fish & Chips',\n",
       " 'Cajun/Creole',\n",
       " 'Buffets',\n",
       " 'Drugstores',\n",
       " 'Photography Stores & Services',\n",
       " 'Water Stores',\n",
       " 'Teppanyaki',\n",
       " 'Brewing Supplies',\n",
       " 'Adult Entertainment',\n",
       " 'Pasta Shops',\n",
       " 'Gelato',\n",
       " 'Souvenir Shops',\n",
       " 'Hotels & Travel',\n",
       " 'Resorts',\n",
       " 'Personal Chefs',\n",
       " 'Wraps',\n",
       " 'Home Services',\n",
       " 'Fire Protection Services',\n",
       " 'Wedding Planning',\n",
       " 'German',\n",
       " 'Chocolatiers & Shops',\n",
       " 'Falafel',\n",
       " 'Do-It-Yourself Food',\n",
       " 'Szechuan',\n",
       " 'Eatertainment',\n",
       " 'Cideries',\n",
       " 'Hot Pot',\n",
       " 'Florists',\n",
       " 'Party Supplies',\n",
       " 'Wholesalers',\n",
       " 'Professional Services',\n",
       " 'Hookah Bars',\n",
       " 'Nurseries & Gardening',\n",
       " 'Home & Garden',\n",
       " 'Health & Medical',\n",
       " 'Nutritionists',\n",
       " 'Weight Loss Centers',\n",
       " 'Laotian',\n",
       " 'Fashion',\n",
       " 'Department Stores',\n",
       " 'Belgian',\n",
       " 'Brasseries',\n",
       " 'Kitchen & Bath',\n",
       " 'Peruvian',\n",
       " 'Transportation',\n",
       " 'Food Tours',\n",
       " 'Tours',\n",
       " 'Historical Tours',\n",
       " 'Wine Tours',\n",
       " 'Golf Cart Rentals',\n",
       " 'Taxis',\n",
       " 'Party Bus Rentals',\n",
       " 'Pedicabs',\n",
       " 'Olive Oil',\n",
       " 'Herbs & Spices',\n",
       " 'Antiques',\n",
       " 'Izakaya',\n",
       " 'Pop-up Shops',\n",
       " 'Jazz & Blues',\n",
       " 'Patisserie/Cake Shop',\n",
       " 'Brewpubs',\n",
       " 'Cabaret',\n",
       " 'Strip Clubs',\n",
       " 'Modern European',\n",
       " 'Live/Raw Food',\n",
       " 'Puerto Rican',\n",
       " 'Water Purification Services',\n",
       " 'Cafeteria',\n",
       " 'Dim Sum',\n",
       " 'Dance Clubs',\n",
       " 'Wineries',\n",
       " 'Pets',\n",
       " 'Personal Shopping',\n",
       " 'Personal Assistants',\n",
       " 'Couriers & Delivery Services',\n",
       " 'Local Services',\n",
       " 'Massage Therapy',\n",
       " 'Colombian',\n",
       " 'Himalayan/Nepalese',\n",
       " 'Pan Asian',\n",
       " 'Auto Detailing',\n",
       " 'Irish',\n",
       " 'Irish Pub',\n",
       " 'Dominican',\n",
       " 'Wine Tasting Room',\n",
       " 'Cosmetic Surgeons',\n",
       " 'Medical Spas',\n",
       " 'Day Spas',\n",
       " 'Doctors',\n",
       " 'Pet Services',\n",
       " 'Pet Adoption',\n",
       " 'Pet Stores',\n",
       " 'Turkish',\n",
       " 'New Mexican Cuisine',\n",
       " 'Mailbox Centers',\n",
       " 'Bed & Breakfast',\n",
       " 'Home Decor',\n",
       " 'Vape Shops',\n",
       " 'Electronics',\n",
       " 'Office Equipment',\n",
       " 'Water Delivery',\n",
       " 'Tires',\n",
       " 'Fireplace Services',\n",
       " 'Appliances & Repair',\n",
       " 'Appliances',\n",
       " 'Arts & Crafts',\n",
       " 'Paint & Sip',\n",
       " 'Art Classes',\n",
       " 'Education',\n",
       " 'Cannabis Dispensaries',\n",
       " 'Cannabis Clinics',\n",
       " 'Comedy Clubs',\n",
       " 'Outlet Stores',\n",
       " 'Casinos',\n",
       " 'Pop-Up Restaurants',\n",
       " 'Hair Salons',\n",
       " 'Public Transportation',\n",
       " 'Limos',\n",
       " 'Walking Tours',\n",
       " 'Bus Tours',\n",
       " 'Macarons',\n",
       " 'Shaved Snow',\n",
       " 'Specialty Schools',\n",
       " 'Art Schools',\n",
       " 'Adult Education',\n",
       " 'Virtual Reality Centers',\n",
       " 'Polish',\n",
       " 'Hotels',\n",
       " 'Themed Cafes',\n",
       " 'Marketing',\n",
       " 'Popcorn Shops',\n",
       " 'Burmese',\n",
       " 'Trophy Shops',\n",
       " 'Sports Wear',\n",
       " 'Engraving',\n",
       " 'Sporting Goods',\n",
       " 'Musicians',\n",
       " 'Gay Bars',\n",
       " 'Climbing',\n",
       " 'Trampoline Parks',\n",
       " 'Festivals',\n",
       " 'Personal Care Services',\n",
       " 'Jewelry',\n",
       " 'Art Supplies',\n",
       " 'Skin Care',\n",
       " 'Art Galleries',\n",
       " 'Pest Control',\n",
       " 'Honey',\n",
       " 'Dinner Theater',\n",
       " 'Delicatessen',\n",
       " 'Kombucha',\n",
       " 'Furniture Stores',\n",
       " 'Makeup Artists',\n",
       " 'Massage',\n",
       " 'Nail Salons',\n",
       " 'Moroccan',\n",
       " 'Russian',\n",
       " 'Tasting Classes',\n",
       " 'Wine Tasting Classes',\n",
       " 'Community Service/Non-Profit',\n",
       " 'Plumbing',\n",
       " 'Roadside Assistance',\n",
       " 'Commercial Truck Repair',\n",
       " 'Christmas Trees',\n",
       " 'Christmas Markets',\n",
       " 'Bike Repair/Maintenance',\n",
       " 'Bikes',\n",
       " 'Fondue',\n",
       " 'Mongolian',\n",
       " 'Cooking Classes',\n",
       " 'Cinema',\n",
       " 'Tanning',\n",
       " 'Hair Stylists',\n",
       " 'Kebab',\n",
       " 'Building Supplies',\n",
       " 'Radio Stations',\n",
       " 'Mass Media',\n",
       " 'Tattoo',\n",
       " 'Armenian',\n",
       " 'Supper Clubs',\n",
       " 'Pharmacy',\n",
       " 'Bartenders',\n",
       " 'Drive-Thru Bars',\n",
       " 'Hospitals',\n",
       " 'Eyewear & Opticians',\n",
       " 'Optometrists',\n",
       " 'Real Estate Agents',\n",
       " 'Real Estate',\n",
       " 'Investing',\n",
       " 'Real Estate Services',\n",
       " 'Museums',\n",
       " 'Barbers',\n",
       " 'Local Fish Stores',\n",
       " 'Yoga',\n",
       " 'Sports Clubs',\n",
       " 'Fitness/Exercise Equipment',\n",
       " 'Floral Designers',\n",
       " 'Restaurant Supplies',\n",
       " 'Toy Stores',\n",
       " 'Bankruptcy Law',\n",
       " 'Lawyers',\n",
       " 'Tax Services',\n",
       " 'Business Consulting',\n",
       " 'Estate Planning Law',\n",
       " 'Tax Law',\n",
       " 'Wills',\n",
       " 'Trusts',\n",
       " '& Probates',\n",
       " 'Hungarian',\n",
       " 'Portuguese',\n",
       " 'Beverage Store',\n",
       " 'Home Cleaning',\n",
       " 'Head Shops',\n",
       " 'Tabletop Games',\n",
       " 'Hobby Shops',\n",
       " \"Women's Clothing\",\n",
       " 'Accessories',\n",
       " 'Bridal',\n",
       " 'Cards & Stationery',\n",
       " 'Colleges & Universities',\n",
       " 'Funeral Services & Cemeteries',\n",
       " 'garage',\n",
       " 'street',\n",
       " 'validated',\n",
       " 'lot',\n",
       " 'valet',\n",
       " 'dessert',\n",
       " 'latenight',\n",
       " 'lunch',\n",
       " 'dinner',\n",
       " 'breakfast',\n",
       " 'brunch',\n",
       " 'Alcohol_full_bar',\n",
       " 'Alcohol_none',\n",
       " 'BusinessAcceptsCreditCards_False',\n",
       " 'BusinessAcceptsCreditCards_True',\n",
       " 'Caters_False',\n",
       " 'Caters_True',\n",
       " 'GoodForKids_False',\n",
       " 'GoodForKids_True',\n",
       " 'HappyHour_False',\n",
       " 'HappyHour_True',\n",
       " 'HasTV_False',\n",
       " 'HasTV_True',\n",
       " 'NoiseLevel_loud',\n",
       " 'NoiseLevel_quiet',\n",
       " 'NoiseLevel_very_loud',\n",
       " 'OutdoorSeating_False',\n",
       " 'OutdoorSeating_True',\n",
       " 'RestaurantsAttire_dressy',\n",
       " 'RestaurantsAttire_formal',\n",
       " 'RestaurantsDelivery_False',\n",
       " 'RestaurantsDelivery_True',\n",
       " 'RestaurantsGoodForGroups_False',\n",
       " 'RestaurantsGoodForGroups_True',\n",
       " 'RestaurantsPriceRange2_1',\n",
       " 'RestaurantsPriceRange2_2',\n",
       " 'RestaurantsPriceRange2_3',\n",
       " 'RestaurantsPriceRange2_4',\n",
       " 'RestaurantsReservations_False',\n",
       " 'RestaurantsReservations_True',\n",
       " 'RestaurantsTableService_False',\n",
       " 'RestaurantsTableService_True',\n",
       " 'RestaurantsTakeOut_False',\n",
       " 'RestaurantsTakeOut_True',\n",
       " 'WheelchairAccessible_False',\n",
       " 'WheelchairAccessible_True',\n",
       " 'WiFi_no',\n",
       " 'WiFi_paid',\n",
       " 'median_sqft_price',\n",
       " 'housing_units',\n",
       " 'land_area_in_sqmi',\n",
       " 'median_home_value',\n",
       " 'median_household_income',\n",
       " 'occupied_housing_units',\n",
       " 'population',\n",
       " 'population_density',\n",
       " 'avg_review_count',\n",
       " 'avg_stars',\n",
       " 'density',\n",
       " 'is_local_chain',\n",
       " 'is_national_chain']"
      ]
     },
     "execution_count": 228,
     "metadata": {},
     "output_type": "execute_result"
    }
   ],
   "source": [
    "list(df.columns)"
   ]
  },
  {
   "cell_type": "code",
   "execution_count": 233,
   "metadata": {},
   "outputs": [],
   "source": [
    "# Data Cleaning\n",
    "# pd.set_option(\"display.max_columns\",500)\n",
    "# Drop non-features\n",
    "drop_col = ['index', 'business_id', 'date', 'address', 'hours', \n",
    "            'latitude','longitude','name','review_count','stars',\n",
    "            'neighborhood', 'postal_code', 'postal_code_int', 'ZIP', 'STATE']\n",
    "df_clean = df[(df['postal_code'] != '89158') & (df['postal_code'] != '85378')].drop(drop_col, axis = 1)"
   ]
  },
  {
   "cell_type": "code",
   "execution_count": 238,
   "metadata": {},
   "outputs": [],
   "source": [
    "# Convert categorical variables to dummies\n",
    "dummy_col = ['city', 'state']\n",
    "df_clean = pd.get_dummies(data = df_clean, columns = dummy_col)"
   ]
  },
  {
   "cell_type": "markdown",
   "metadata": {},
   "source": [
    "### 4. Modeling"
   ]
  },
  {
   "cell_type": "code",
   "execution_count": 246,
   "metadata": {},
   "outputs": [
    {
     "data": {
      "text/plain": [
       "is_open\n",
       "0     508\n",
       "1    2317\n",
       "Name: is_open, dtype: int64"
      ]
     },
     "execution_count": 246,
     "metadata": {},
     "output_type": "execute_result"
    }
   ],
   "source": [
    "# Resampling\n",
    "df_clean.groupby('is_open')['is_open'].count()"
   ]
  },
  {
   "cell_type": "code",
   "execution_count": 248,
   "metadata": {},
   "outputs": [],
   "source": [
    "# Oversample restaurants that are closed\n",
    "biz_open = df_clean[df_clean['is_open'] == 1]\n",
    "biz_closed = df_clean[df_clean['is_open'] == 0]\n",
    "biz_closed_over = biz_closed.sample(len(biz_open), replace = True)\n",
    "df_over = pd.concat([biz_open, biz_closed_over])"
   ]
  },
  {
   "cell_type": "markdown",
   "metadata": {},
   "source": [
    "#### 4.1 Baseline: logistic regression with regularization"
   ]
  },
  {
   "cell_type": "code",
   "execution_count": 251,
   "metadata": {},
   "outputs": [
    {
     "name": "stderr",
     "output_type": "stream",
     "text": [
      "/Users/laiyipeng/anaconda/lib/python3.6/site-packages/sklearn/cross_validation.py:41: DeprecationWarning: This module was deprecated in version 0.18 in favor of the model_selection module into which all the refactored classes and functions are moved. Also note that the interface of the new CV iterators are different from that of this module. This module will be removed in 0.20.\n",
      "  \"This module will be removed in 0.20.\", DeprecationWarning)\n",
      "/Users/laiyipeng/anaconda/lib/python3.6/site-packages/sklearn/grid_search.py:42: DeprecationWarning: This module was deprecated in version 0.18 in favor of the model_selection module into which all the refactored classes and functions are moved. This module will be removed in 0.20.\n",
      "  DeprecationWarning)\n"
     ]
    },
    {
     "data": {
      "text/plain": [
       "GridSearchCV(cv=sklearn.cross_validation.KFold(n=4634, n_folds=5, shuffle=True, random_state=None),\n",
       "       error_score='raise',\n",
       "       estimator=Pipeline(memory=None,\n",
       "     steps=[('scaler', RobustScaler(copy=True, quantile_range=(25.0, 75.0), with_centering=True,\n",
       "       with_scaling=True)), ('lr', LogisticRegression(C=1.0, class_weight=None, dual=False, fit_intercept=True,\n",
       "          intercept_scaling=1, max_iter=100, multi_class='ovr', n_jobs=1,\n",
       "          penalty='l2', random_state=None, solver='liblinear', tol=0.0001,\n",
       "          verbose=0, warm_start=False))]),\n",
       "       fit_params={}, iid=True, n_jobs=1,\n",
       "       param_grid={'lr__C': [0.001, 0.01, 0.1, 1, 10, 100], 'lr__penalty': ['l1', 'l2']},\n",
       "       pre_dispatch='2*n_jobs', refit=True, scoring='roc_auc', verbose=0)"
      ]
     },
     "execution_count": 251,
     "metadata": {},
     "output_type": "execute_result"
    }
   ],
   "source": [
    "# Baseline: logitstic regression with regularization + grid search\n",
    "from sklearn.linear_model import LogisticRegression\n",
    "from sklearn.grid_search import GridSearchCV\n",
    "from sklearn.cross_validation import KFold\n",
    "from sklearn.pipeline import Pipeline\n",
    "from sklearn.preprocessing import RobustScaler\n",
    "\n",
    "X = df_over.drop('is_open', axis = 1)\n",
    "y = df_over['is_open']\n",
    "\n",
    "kfolds = KFold(X.shape[0], n_folds = 5, shuffle = True)\n",
    "steps = [('scaler', RobustScaler()),\n",
    "         ('lr', LogisticRegression())]\n",
    "pipeline = Pipeline(steps)\n",
    "\n",
    "parameters_scaler = dict(lr__C = [10**i for i in range(-3, 3)],\n",
    "                  lr__penalty = ['l1', 'l2'])\n",
    "\n",
    "lr_grid_search_scaler = GridSearchCV(pipeline, param_grid = parameters_scaler, cv = kfolds, scoring = 'roc_auc')\n",
    "lr_grid_search_scaler.fit(X, y)"
   ]
  },
  {
   "cell_type": "code",
   "execution_count": 255,
   "metadata": {},
   "outputs": [
    {
     "name": "stdout",
     "output_type": "stream",
     "text": [
      "AUC score for the baseline model (logistic regression with regularization): 0.8055285533341284\n"
     ]
    }
   ],
   "source": [
    "print('AUC score for the baseline model (logistic regression with regularization):' , \n",
    "     lr_grid_search_scaler.best_score_)"
   ]
  },
  {
   "cell_type": "markdown",
   "metadata": {},
   "source": [
    "#### 4.2 XGBoost (Default)"
   ]
  },
  {
   "cell_type": "code",
   "execution_count": 256,
   "metadata": {},
   "outputs": [
    {
     "data": {
      "text/plain": [
       "GridSearchCV(cv=sklearn.cross_validation.KFold(n=4634, n_folds=5, shuffle=True, random_state=None),\n",
       "       error_score='raise',\n",
       "       estimator=Pipeline(memory=None,\n",
       "     steps=[('scaler', RobustScaler(copy=True, quantile_range=(25.0, 75.0), with_centering=True,\n",
       "       with_scaling=True)), ('xgb', XGBClassifier(base_score=0.5, booster='gbtree', colsample_bylevel=1,\n",
       "       colsample_bytree=1, gamma=0, learning_rate=0.1, max_delta_step=0,\n",
       "       max_depth=3, min_child_...\n",
       "       reg_alpha=0, reg_lambda=1, scale_pos_weight=1, seed=None,\n",
       "       silent=True, subsample=1))]),\n",
       "       fit_params={}, iid=True, n_jobs=1,\n",
       "       param_grid={'xgb__n_estimators': [100], 'xgb__learning_rate': [0.1]},\n",
       "       pre_dispatch='2*n_jobs', refit=True, scoring='roc_auc', verbose=0)"
      ]
     },
     "execution_count": 256,
     "metadata": {},
     "output_type": "execute_result"
    }
   ],
   "source": [
    "from xgboost import XGBClassifier\n",
    "steps = [('scaler', RobustScaler()),\n",
    "         ('xgb', XGBClassifier())]\n",
    "pipeline = Pipeline(steps)\n",
    "\n",
    "parameters_scaler = dict(xgb__n_estimators = [100],\n",
    "                         xgb__learning_rate = [0.1])\n",
    "\n",
    "xgb_grid_search_scaler = GridSearchCV(pipeline, param_grid = parameters_scaler, cv = kfolds, scoring = 'roc_auc')\n",
    "xgb_grid_search_scaler.fit(X, y)"
   ]
  },
  {
   "cell_type": "code",
   "execution_count": 260,
   "metadata": {},
   "outputs": [
    {
     "name": "stdout",
     "output_type": "stream",
     "text": [
      "AUC score for the XGBoost model (default): 0.8308215329322491\n"
     ]
    }
   ],
   "source": [
    "print('AUC score for the XGBoost model (default):' , xgb_grid_search_scaler.best_score_)"
   ]
  },
  {
   "cell_type": "code",
   "execution_count": null,
   "metadata": {},
   "outputs": [],
   "source": [
    "steps = [('scaler', RobustScaler()),\n",
    "         ('xgb', XGBClassifier())]\n",
    "pipeline = Pipeline(steps)\n",
    "\n",
    "parameters_scaler = dict(xgb__n_estimators = [50, 100, 150, 200],\n",
    "                         xgb__learning_rate = [0.01, 0.1, 0.2],\n",
    "                         xgb__max_depth = [3, 5, 10])\n",
    "\n",
    "xgb_grid_search_scaler_x = GridSearchCV(pipeline, param_grid = parameters_scaler, \n",
    "                                        cv = kfolds, scoring = 'roc_auc')\n",
    "xgb_grid_search_scaler_x.fit(X, y)"
   ]
  },
  {
   "cell_type": "code",
   "execution_count": null,
   "metadata": {
    "collapsed": true
   },
   "outputs": [],
   "source": []
  }
 ],
 "metadata": {
  "kernelspec": {
   "display_name": "Python 3",
   "language": "python",
   "name": "python3"
  },
  "language_info": {
   "codemirror_mode": {
    "name": "ipython",
    "version": 3
   },
   "file_extension": ".py",
   "mimetype": "text/x-python",
   "name": "python",
   "nbconvert_exporter": "python",
   "pygments_lexer": "ipython3",
   "version": "3.6.0"
  }
 },
 "nbformat": 4,
 "nbformat_minor": 2
}
