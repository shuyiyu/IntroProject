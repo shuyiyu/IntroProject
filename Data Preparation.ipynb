{
 "cells": [
  {
   "cell_type": "code",
   "execution_count": 1,
   "metadata": {
    "collapsed": true
   },
   "outputs": [],
   "source": [
    "# Initial setup\n",
    "import pandas as pd\n",
    "import numpy as np\n",
    "import json\n",
    "import warnings\n",
    "warnings.filterwarnings('ignore')\n",
    "\n",
    "df_full = pd.read_json('yelp_academic_dataset_business.json', lines = True)\n",
    "tip = pd.read_json('yelp_academic_dataset_tip.json', lines = True)"
   ]
  },
  {
   "cell_type": "markdown",
   "metadata": {},
   "source": [
    "## 1. Data Preprocessing\n",
    "In this section, we will transform the Yelp dataset and produce the format required for data mining and modeling through the following steps:\n",
    "\n",
    "- Filter to U.S. restaurants that were opened in 2016\n",
    "- Flatten attributes and categories\n",
    "- Transform categorical variables into dummy variables\n",
    "- Handling missing values"
   ]
  },
  {
   "cell_type": "code",
   "execution_count": 81,
   "metadata": {
    "collapsed": true
   },
   "outputs": [],
   "source": [
    "# Filter to U.S. restaurants that were opened in 2016\n",
    "# 1) Filter to U.S. businesses\n",
    "zip_crosswalk = pd.read_csv('zip_crosswalk.csv')\n",
    "# Transform digit-only postal code to int\n",
    "digit_only = df_full['postal_code'].map(lambda x: True if all(i.isdigit() for i in x) else False)\n",
    "df_full = df_full[(digit_only) & (df_full['postal_code'] != '')]\n",
    "df_full['postal_code_int'] = [int(x) for x in df_full['postal_code']]\n",
    "# Join crosswalk by zip and state\n",
    "df = pd.merge(df_full, zip_crosswalk[['ZIP', 'STATE']], \n",
    "              left_on = ['postal_code_int', 'state'],\n",
    "              right_on = ['ZIP', 'STATE'])\n",
    "\n",
    "# 2) Filter to restaurants\n",
    "df = df[df['categories'].str.contains('Restaurants|Food', na = False)]\n",
    "\n",
    "# 3) Filter to restaurants that were opened in 2016\n",
    "start = '2015-01-01'\n",
    "end = '2016-12-31'\n",
    "tip = tip.groupby('business_id')['date'].min().reset_index()\n",
    "tip = tip[(tip['date'] >= start) & (tip['date'] <= end)]\n",
    "df = pd.merge(tip, df, on = 'business_id')"
   ]
  },
  {
   "cell_type": "code",
   "execution_count": 90,
   "metadata": {
    "scrolled": true
   },
   "outputs": [
    {
     "data": {
      "image/png": "[encoded data removed]",
      "text/plain": [
       "<matplotlib.figure.Figure at 0x11d242dd8>"
      ]
     },
     "metadata": {},
     "output_type": "display_data"
    }
   ],
   "source": [
    "# Check geological distribution\n",
    "import seaborn as sns\n",
    "import matplotlib.pyplot as plt\n",
    "fig = plt.figure(figsize=(15, 5))\n",
    "df.groupby('state')['business_id'].count().plot(kind = 'bar')\n",
    "plt.show()"
   ]
  },
  {
   "cell_type": "code",
   "execution_count": 91,
   "metadata": {},
   "outputs": [
    {
     "data": {
      "image/png": "[encoded data removed]",
      "text/plain": [
       "<matplotlib.figure.Figure at 0x11d2dfb00>"
      ]
     },
     "metadata": {},
     "output_type": "display_data"
    }
   ],
   "source": [
    "# Check restaurant closure\n",
    "df.groupby('is_open')['business_id'].count().plot(kind = 'bar')\n",
    "plt.show()"
   ]
  },
  {
   "cell_type": "code",
   "execution_count": null,
   "metadata": {
    "collapsed": true
   },
   "outputs": [],
   "source": [
    "# Flatten attributes and categories"
   ]
  },
  {
   "cell_type": "code",
   "execution_count": null,
   "metadata": {
    "collapsed": true
   },
   "outputs": [],
   "source": [
    "# Transform categorical variables into dummy"
   ]
  },
  {
   "cell_type": "code",
   "execution_count": null,
   "metadata": {
    "collapsed": true
   },
   "outputs": [],
   "source": [
    "# Handling missing values"
   ]
  },
  {
   "cell_type": "markdown",
   "metadata": {
    "collapsed": true
   },
   "source": [
    "## 2. External Data\n",
    "In this section, we will integrate the following external data sources to the Yelp dataset:\n",
    "- Zillow property price data\n",
    "- Demographic data by zip code"
   ]
  },
  {
   "cell_type": "code",
   "execution_count": null,
   "metadata": {
    "collapsed": true
   },
   "outputs": [],
   "source": [
    "# Zillow"
   ]
  },
  {
   "cell_type": "code",
   "execution_count": null,
   "metadata": {
    "collapsed": true
   },
   "outputs": [],
   "source": [
    "# Demographic by zip"
   ]
  },
  {
   "cell_type": "markdown",
   "metadata": {
    "collapsed": true
   },
   "source": [
    "## 3. Feature Engineering\n",
    "In this section, we will perform feature engineering to extract the following attributes:\n",
    "- Restaurant density and competition level in the neighborhood\n",
    "- Whether a given restaurant belong to a local/national chain"
   ]
  },
  {
   "cell_type": "code",
   "execution_count": null,
   "metadata": {
    "collapsed": true
   },
   "outputs": [],
   "source": [
    "# Restaurant density"
   ]
  },
  {
   "cell_type": "code",
   "execution_count": null,
   "metadata": {
    "collapsed": true
   },
   "outputs": [],
   "source": [
    "# Chain"
   ]
  }
 ],
 "metadata": {
  "kernelspec": {
   "display_name": "Python 3",
   "language": "python",
   "name": "python3"
  },
  "language_info": {
   "codemirror_mode": {
    "name": "ipython",
    "version": 3
   },
   "file_extension": ".py",
   "mimetype": "text/x-python",
   "name": "python",
   "nbconvert_exporter": "python",
   "pygments_lexer": "ipython3",
   "version": "3.6.0"
  }
 },
 "nbformat": 4,
 "nbformat_minor": 2
}
