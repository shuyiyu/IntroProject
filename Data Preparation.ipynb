{
 "cells": [
  {
   "cell_type": "code",
   "execution_count": 2,
   "metadata": {},
   "outputs": [],
   "source": [
    "# Initial setup\n",
    "import pandas as pd\n",
    "import numpy as np\n",
    "import json\n",
    "import warnings\n",
    "warnings.filterwarnings('ignore')\n",
    "\n",
    "df_full = pd.read_json('yelp_academic_dataset_business.json', lines = True)\n",
    "tip = pd.read_json('yelp_academic_dataset_tip.json', lines = True)"
   ]
  },
  {
   "cell_type": "markdown",
   "metadata": {},
   "source": [
    "## 1. Data Preprocessing\n",
    "In this section, we will transform the Yelp dataset and produce the format required for data mining and modeling through the following steps:\n",
    "\n",
    "- Filter to U.S. restaurants that were opened in 2016\n",
    "- Flatten attributes and categories\n",
    "- Transform categorical variables into dummy variables\n",
    "- Handling missing values"
   ]
  },
  {
   "cell_type": "code",
   "execution_count": 174,
   "metadata": {
    "collapsed": true
   },
   "outputs": [],
   "source": [
    "# Filter to U.S. restaurants that were opened in 2016\n",
    "# 1) Filter to U.S. businesses\n",
    "zip_crosswalk = pd.read_csv('zip_crosswalk.csv')\n",
    "# Transform digit-only postal code to int\n",
    "digit_only = df_full['postal_code'].map(lambda x: True if all(i.isdigit() for i in x) else False)\n",
    "df_full = df_full[(digit_only) & (df_full['postal_code'] != '')]\n",
    "df_full['postal_code_int'] = [int(x) for x in df_full['postal_code']]\n",
    "# Join crosswalk by zip and state\n",
    "df_us = pd.merge(df_full, zip_crosswalk[['ZIP', 'STATE']], \n",
    "              left_on = ['postal_code_int', 'state'],\n",
    "              right_on = ['ZIP', 'STATE'])\n",
    "\n",
    "# 2) Filter to restaurants\n",
    "df_us = df_us[df_us['categories'].str.contains('Restaurants|Food', na = False)]\n",
    "\n",
    "# 3) Filter to restaurants that were opened in 2016\n",
    "start = '2015-01-01'\n",
    "end = '2016-12-31'\n",
    "tip = tip.groupby('business_id')['date'].min().reset_index()\n",
    "tip = tip[(tip['date'] >= start) & (tip['date'] <= end)]\n",
    "df = pd.merge(tip, df_us, on = 'business_id')"
   ]
  },
  {
   "cell_type": "code",
   "execution_count": 175,
   "metadata": {
    "scrolled": true
   },
   "outputs": [
    {
     "data": {
      "image/png": "[encoded data removed]",
      "text/plain": [
       "<matplotlib.figure.Figure at 0x12181ea58>"
      ]
     },
     "metadata": {},
     "output_type": "display_data"
    }
   ],
   "source": [
    "# Check geological distribution\n",
    "import seaborn as sns\n",
    "import matplotlib.pyplot as plt\n",
    "fig = plt.figure(figsize=(15, 5))\n",
    "df.groupby('state')['business_id'].count().plot(kind = 'bar')\n",
    "plt.show()"
   ]
  },
  {
   "cell_type": "code",
   "execution_count": 176,
   "metadata": {},
   "outputs": [
    {
     "name": "stdout",
     "output_type": "stream",
     "text": [
      "Total data points in df: 7303\n",
      "Total data points in df after removing a few states: 7043\n"
     ]
    }
   ],
   "source": [
    "# Drop states with few data points\n",
    "state_list = ['AZ', 'NC', 'NV', 'OH', 'PA', 'WI']\n",
    "print('Total data points in df:', len(df))\n",
    "df = df[np.in1d(df['state'], state_list)].reset_index()\n",
    "print('Total data points in df after removing a few states:', len(df))"
   ]
  },
  {
   "cell_type": "code",
   "execution_count": 177,
   "metadata": {},
   "outputs": [
    {
     "data": {
      "image/png": "[encoded data removed]",
      "text/plain": [
       "<matplotlib.figure.Figure at 0x12181ee48>"
      ]
     },
     "metadata": {},
     "output_type": "display_data"
    }
   ],
   "source": [
    "# Check restaurant closure\n",
    "df.groupby('is_open')['business_id'].count().plot(kind = 'bar')\n",
    "plt.show()"
   ]
  },
  {
   "cell_type": "code",
   "execution_count": 178,
   "metadata": {
    "collapsed": true
   },
   "outputs": [],
   "source": [
    "# Flatten attributes and categories\n",
    "# 1) Categories\n",
    "from collections import Counter\n",
    "# Extract categories from list of lists\n",
    "cat = ', '.join(df['categories'])\n",
    "# Count frequency\n",
    "counter = Counter(cat.split(', '))\n",
    "# Append categories as dummies\n",
    "for cat in list(counter.keys()):\n",
    "    df[cat] = np.where(df['categories'].str.contains(cat), 1, 0)\n",
    "df.drop('categories', inplace = True, axis = 1)"
   ]
  },
  {
   "cell_type": "code",
   "execution_count": 179,
   "metadata": {},
   "outputs": [],
   "source": [
    "# 2) Attributes\n",
    "# Unuseful attributes to be dropped\n",
    "drop_list = ['AcceptsInsurance', 'AgesAllowed', 'Ambience', 'BYOB', 'BYOBCorkage', 'DietaryRestrictions',\n",
    "             'BestNights', 'BikeParking', 'BusinessAcceptsBitcoin', 'Music', 'ByAppointmentOnly',\n",
    "             'CoatCheck', 'DogsAllowed' , 'DriveThru', 'GoodForDancing', 'Smoking', 'BusinessParking', 'GoodForMeal']\n",
    "# Flattening\n",
    "att = df['attributes'].apply(pd.Series)\n",
    "meal = att['GoodForMeal'].fillna(\"{'dessert': False, 'latenight': False, 'lunch': False, 'dinner': False, 'breakfast': False, 'brunch': False}\")\n",
    "parking = att['BusinessParking'].fillna(\"{'garage': False, 'street': True, 'validated': False, 'lot': False, 'valet': False}\")\n",
    "parking_list = ['garage', 'street', 'validated', 'lot', 'valet']\n",
    "meal_list = ['dessert', 'latenight', 'lunch', 'dinner', 'breakfast', 'brunch']\n",
    "\n",
    "# Define a function to flatten json lists\n",
    "import ast\n",
    "def flatten_json(df, col):\n",
    "    for i in range(len(col)):\n",
    "        json_dict = ast.literal_eval(col[i])\n",
    "        for j in json_dict.keys():\n",
    "            df[j] = np.where(json_dict[j], 1, 0) \n",
    "            \n",
    "flatten_json(df = att, col = parking)\n",
    "flatten_json(df = att, col = meal)\n",
    "\n",
    "# Handle missing value in attributes\n",
    "att['Alcohol'].fillna('none', inplace = True)\n",
    "att['NoiseLevel'].fillna('average', inplace = True)\n",
    "att['RestaurantsAttire'].fillna('casual', inplace = True)\n",
    "att['WiFi'].fillna('no', inplace = True)\n",
    "att['RestaurantsPriceRange2'].fillna(0, inplace = True)\n",
    "\n",
    "# Transform attributes into dummy variables\n",
    "att = att.drop(drop_list, axis = 1).fillna(value = False)\n",
    "att = pd.get_dummies(att, drop_first = True)\n",
    "\n",
    "# Append attributes to main dataframe\n",
    "df = pd.merge(df, att, left_index = True, right_index = True)\n",
    "df.drop('attributes', axis = 1, inplace = True)"
   ]
  },
  {
   "cell_type": "code",
   "execution_count": 37,
   "metadata": {
    "collapsed": true
   },
   "outputs": [],
   "source": [
    "# Transform categorical variables into dummy"
   ]
  },
  {
   "cell_type": "code",
   "execution_count": 38,
   "metadata": {
    "collapsed": true
   },
   "outputs": [],
   "source": [
    "# Handling missing values"
   ]
  },
  {
   "cell_type": "markdown",
   "metadata": {
    "collapsed": true
   },
   "source": [
    "## 2. External Data\n",
    "In this section, we will integrate the following external data sources to the Yelp dataset:\n",
    "- Zillow property price data\n",
    "- Demographic data by zip code"
   ]
  },
  {
   "cell_type": "code",
   "execution_count": 180,
   "metadata": {
    "collapsed": true
   },
   "outputs": [],
   "source": [
    "# Zillow\n",
    "zillow = pd.read_csv('zillow_median_price.csv', encoding='cp1252')\n",
    "# Extract zipcodes\n",
    "zipcodes = df['postal_code'].unique()\n",
    "df['postal_code_int'] = [int(i) for i in df['postal_code']]\n",
    "house_price = zillow[np.in1d(zillow['RegionName'], \n",
    "                             df['postal_code_int'])][['RegionName', '2016-01']]\n",
    "house_price.columns = ['postal_code_int', 'median_sqft_price']\n",
    "# Append median house price to main df\n",
    "df = pd.merge(df, house_price, on = 'postal_code_int')\n",
    "df['median_sqft_price'] = df['median_sqft_price'].fillna(df['median_sqft_price'].median())"
   ]
  },
  {
   "cell_type": "code",
   "execution_count": 40,
   "metadata": {
    "collapsed": true
   },
   "outputs": [],
   "source": [
    "# Add zip-level demographics\n",
    "from uszipcode import SearchEngine\n",
    "keys = ['zipcode', 'housing_units', 'land_area_in_sqmi', 'median_home_value', 'median_household_income', \\\n",
    "        'occupied_housing_units', 'population', 'population_density', 'annual_individual_earnings', \\\n",
    "        'educational_attainment_for_population_25_and_over', 'employment_status', 'families_vs_singles', \\\n",
    "        'households_with_kids', 'housing_occupancy', 'means_of_transportation_to_work_for_workers_16_and_over', \\\n",
    "        'population_by_age', 'population_by_gender', 'population_by_race', 'travel_time_to_work_in_minutes']\n",
    "lst = []\n",
    "for zipcode in zipcodes:\n",
    "    search = SearchEngine(simple_zipcode=False) \n",
    "    item = search.by_zipcode(zipcode)\n",
    "    newDict  = item.to_dict()\n",
    "    lst.append([newDict.get(key) for key in keys])\n",
    "keys[0] = 'postal_code'\n",
    "df_demograph = pd.DataFrame(lst, columns=keys)\n",
    "df = pd.merge(df, df_demograph, on='postal_code', how='inner')"
   ]
  },
  {
   "cell_type": "markdown",
   "metadata": {
    "collapsed": true
   },
   "source": [
    "## 3. Feature Engineering\n",
    "In this section, we will perform feature engineering to extract the following attributes:\n",
    "- Restaurant density and competition level in the neighborhood\n",
    "- Whether a given restaurant belong to a local/national chain"
   ]
  },
  {
   "cell_type": "code",
   "execution_count": null,
   "metadata": {},
   "outputs": [],
   "source": [
    "# Restaurant density"
   ]
  },
  {
   "cell_type": "code",
   "execution_count": 42,
   "metadata": {
    "collapsed": true
   },
   "outputs": [],
   "source": [
    "# Chain"
   ]
  }
 ],
 "metadata": {
  "kernelspec": {
   "display_name": "Python 3",
   "language": "python",
   "name": "python3"
  },
  "language_info": {
   "codemirror_mode": {
    "name": "ipython",
    "version": 3
   },
   "file_extension": ".py",
   "mimetype": "text/x-python",
   "name": "python",
   "nbconvert_exporter": "python",
   "pygments_lexer": "ipython3",
   "version": "3.6.0"
  }
 },
 "nbformat": 4,
 "nbformat_minor": 2
}
