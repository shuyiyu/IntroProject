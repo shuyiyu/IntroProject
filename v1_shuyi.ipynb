{
 "cells": [
  {
   "cell_type": "code",
   "execution_count": 241,
   "metadata": {},
   "outputs": [],
   "source": [
    "import numpy as np\n",
    "import pandas as pd\n",
    "from datetime import datetime\n",
    "from sklearn.cross_validation import train_test_split\n",
    "from sklearn.linear_model import LogisticRegression\n",
    "from sklearn.metrics import roc_auc_score\n",
    "from sklearn.model_selection import KFold\n",
    "date1 = datetime.strptime('2016-01-01', \"%Y-%m-%d\")\n",
    "date2 = datetime.strptime('2016-12-31', \"%Y-%m-%d\")\n",
    "\n",
    "df1 = pd.read_json('yelp_academic_dataset_business.json', lines=True)\n",
    "# str(df1['state'].unique())"
   ]
  },
  {
   "cell_type": "code",
   "execution_count": 209,
   "metadata": {},
   "outputs": [],
   "source": [
    "df2 = df1[df1['state'].astype(str).str.lower().isin(['nv','az','pa','oh','il','wi','nc','sc','in','ny','or'])]"
   ]
  },
  {
   "cell_type": "markdown",
   "metadata": {},
   "source": [
    "'NV' 'AZ' 'PA' 'OH' 'IL' 'WI' 'NC' 'SC' 'IN' 'NY' 'OR'  \n",
    "'NV','AZ','PA','OH','IL','WI','NC','SC','IN','NY','OR'\n",
    "'nv','az','pa','oh','il','wi','nc','sc','in','ny','or'"
   ]
  },
  {
   "cell_type": "code",
   "execution_count": 210,
   "metadata": {},
   "outputs": [],
   "source": [
    "# df = df2[df2['state'].astype(str).str.lower() == 'or']\n",
    "# df['postal_code'].unique()"
   ]
  },
  {
   "cell_type": "code",
   "execution_count": 211,
   "metadata": {},
   "outputs": [],
   "source": [
    "df3 = df2.loc[(df2['state'].astype(str).str.lower() == 'nv') & \\\n",
    "              ((df2['postal_code'].astype(str).str.startswith('89'))|(df2['postal_code'].astype(str).str.startswith('88'))) & \\\n",
    "              (df2['postal_code'].astype(str).str.len() == 5)]"
   ]
  },
  {
   "cell_type": "code",
   "execution_count": 212,
   "metadata": {},
   "outputs": [],
   "source": [
    "df4 = df2.loc[(df2['state'].astype(str).str.lower() == 'az') & \\\n",
    "              ((df2['postal_code'].astype(str).str.startswith('85'))|(df2['postal_code'].astype(str).str.startswith('86'))) & \\\n",
    "              (df2['postal_code'].astype(str).str.len() == 5)]"
   ]
  },
  {
   "cell_type": "code",
   "execution_count": 213,
   "metadata": {},
   "outputs": [],
   "source": [
    "df5 = df2.loc[(df2['state'].astype(str).str.lower() == 'pa') & \\\n",
    "              ((df2['postal_code'].astype(str).str.startswith('15'))|(df2['postal_code'].astype(str).str.startswith('16'))|(df2['postal_code'].astype(str).str.startswith('17'))|(df2['postal_code'].astype(str).str.startswith('18'))|(df2['postal_code'].astype(str).str.startswith('19'))) & \\\n",
    "              (df2['postal_code'].astype(str).str.len() == 5)]"
   ]
  },
  {
   "cell_type": "code",
   "execution_count": 214,
   "metadata": {},
   "outputs": [],
   "source": [
    "df6 = df2.loc[(df2['state'].astype(str).str.lower() == 'oh') & \\\n",
    "              ((df2['postal_code'].astype(str).str.startswith('43'))|(df2['postal_code'].astype(str).str.startswith('44'))|(df2['postal_code'].astype(str).str.startswith('45'))) & \\\n",
    "              (df2['postal_code'].astype(str).str.len() == 5)]"
   ]
  },
  {
   "cell_type": "code",
   "execution_count": 215,
   "metadata": {},
   "outputs": [],
   "source": [
    "df7 = df2.loc[(df2['state'].astype(str).str.lower() == 'il') & \\\n",
    "              ((df2['postal_code'].astype(str).str.startswith('60'))|(df2['postal_code'].astype(str).str.startswith('61'))) & \\\n",
    "              (df2['postal_code'].astype(str).str.len() == 5)]"
   ]
  },
  {
   "cell_type": "code",
   "execution_count": 216,
   "metadata": {},
   "outputs": [],
   "source": [
    "df8 = df2.loc[(df2['state'].astype(str).str.lower() == 'wi') & \\\n",
    "              ((df2['postal_code'].astype(str).str.startswith('53'))|(df2['postal_code'].astype(str).str.startswith('54'))) & \\\n",
    "              (df2['postal_code'].astype(str).str.len() == 5)]"
   ]
  },
  {
   "cell_type": "code",
   "execution_count": 217,
   "metadata": {},
   "outputs": [],
   "source": [
    "df9 = df2.loc[(df2['state'].astype(str).str.lower() == 'nc') & \\\n",
    "              ((df2['postal_code'].astype(str).str.startswith('27'))|(df2['postal_code'].astype(str).str.startswith('28'))) & \\\n",
    "              (df2['postal_code'].astype(str).str.len() == 5)]"
   ]
  },
  {
   "cell_type": "code",
   "execution_count": 218,
   "metadata": {},
   "outputs": [],
   "source": [
    "df10 = df2.loc[(df2['state'].astype(str).str.lower() == 'sc') & \\\n",
    "              ((df2['postal_code'].astype(str).str.startswith('29'))) & \\\n",
    "              (df2['postal_code'].astype(str).str.len() == 5)]"
   ]
  },
  {
   "cell_type": "code",
   "execution_count": 219,
   "metadata": {},
   "outputs": [],
   "source": [
    "df11 = df2.loc[(df2['state'].astype(str).str.lower() == 'in') & \\\n",
    "              ((df2['postal_code'].astype(str).str.startswith('46'))|(df2['postal_code'].astype(str).str.startswith('47'))) & \\\n",
    "              (df2['postal_code'].astype(str).str.len() == 5)]"
   ]
  },
  {
   "cell_type": "code",
   "execution_count": 220,
   "metadata": {},
   "outputs": [],
   "source": [
    "df12 = df2.loc[(df2['state'].astype(str).str.lower() == 'ny') & \\\n",
    "              ((df2['postal_code'].astype(str).str.startswith('12'))) & \\\n",
    "              (df2['postal_code'].astype(str).str.len() == 5)]"
   ]
  },
  {
   "cell_type": "code",
   "execution_count": 221,
   "metadata": {},
   "outputs": [],
   "source": [
    "df13 = df2.loc[(df2['state'].astype(str).str.lower() == 'or') & \\\n",
    "              ((df2['postal_code'].astype(str).str.startswith('97'))) & \\\n",
    "              (df2['postal_code'].astype(str).str.len() == 5)]"
   ]
  },
  {
   "cell_type": "code",
   "execution_count": 222,
   "metadata": {},
   "outputs": [],
   "source": [
    "# df13['postal_code'].unique()\n",
    "# df13"
   ]
  },
  {
   "cell_type": "code",
   "execution_count": 234,
   "metadata": {},
   "outputs": [],
   "source": [
    "df14 = pd.concat([df3, df4, df5, df6, df7, df8, df9, df10, df11, df12, df13], ignore_index=True)"
   ]
  },
  {
   "cell_type": "code",
   "execution_count": 243,
   "metadata": {},
   "outputs": [],
   "source": [
    "df15 = pd.read_json('yelp_academic_dataset_tip.json', lines=True)\n",
    "df15 = df15[['business_id', 'date']]\n",
    "df15 = df15.groupby('business_id').min().reset_index()\n",
    "df15 = df15[(df15['date'] >= date1) & (df15['date'] <= date2)]"
   ]
  },
  {
   "cell_type": "code",
   "execution_count": 244,
   "metadata": {},
   "outputs": [
    {
     "data": {
      "text/plain": [
       "(9477, 17)"
      ]
     },
     "execution_count": 244,
     "metadata": {},
     "output_type": "execute_result"
    }
   ],
   "source": [
    "df16 = pd.merge(df14, df15, on='business_id', how='inner')\n",
    "df16['is_close'] = 1-df16['is_open']\n",
    "df16.shape"
   ]
  },
  {
   "cell_type": "code",
   "execution_count": null,
   "metadata": {},
   "outputs": [],
   "source": []
  }
 ],
 "metadata": {
  "kernelspec": {
   "display_name": "Python 3",
   "language": "python",
   "name": "python3"
  },
  "language_info": {
   "codemirror_mode": {
    "name": "ipython",
    "version": 3
   },
   "file_extension": ".py",
   "mimetype": "text/x-python",
   "name": "python",
   "nbconvert_exporter": "python",
   "pygments_lexer": "ipython3",
   "version": "3.6.4"
  }
 },
 "nbformat": 4,
 "nbformat_minor": 2
}
