{
 "cells": [
  {
   "cell_type": "markdown",
   "metadata": {},
   "source": [
    "What I did in this file is that I assign chain restaurants to 1 and non-chain restaurants to 0.\n",
    "Here I simply define chain restaurants as the restaurants whose number >=2 in the certain state that we are interested in."
   ]
  },
  {
   "cell_type": "markdown",
   "metadata": {},
   "source": [
    "Step 1: read the data and filter to states"
   ]
  },
  {
   "cell_type": "code",
   "execution_count": 1,
   "metadata": {},
   "outputs": [],
   "source": [
    "import pandas as pd\n",
    "df_r= pd.read_json('yelp_academic_dataset_business.json',lines=True)"
   ]
  },
  {
   "cell_type": "code",
   "execution_count": 2,
   "metadata": {},
   "outputs": [],
   "source": [
    "df_nv=df_r[df_r[\"state\"]==\"NV\"]\n",
    "df_az=df_r[df_r[\"state\"]==\"AZ\"]\n",
    "df_nc=df_r[df_r[\"state\"]==\"NC\"]\n",
    "df_pa=df_r[df_r[\"state\"]==\"PA\"]"
   ]
  },
  {
   "cell_type": "markdown",
   "metadata": {},
   "source": [
    "Step 2: filter to the category of \"restarants\""
   ]
  },
  {
   "cell_type": "code",
   "execution_count": 3,
   "metadata": {},
   "outputs": [],
   "source": [
    "df_restaurants_nv=df_nv[df_nv['categories'].str.contains(\"Restaurants\")==True]\n",
    "df_restaurants_az=df_az[df_az['categories'].str.contains(\"Restaurants\")==True]\n",
    "df_restaurants_nc=df_nc[df_nc['categories'].str.contains(\"Restaurants\")==True]\n",
    "df_restaurants_pa=df_pa[df_pa['categories'].str.contains(\"Restaurants\")==True]"
   ]
  },
  {
   "cell_type": "markdown",
   "metadata": {},
   "source": [
    "Step 3: Create a list which contains all the restaurants names which are not chain restaurants"
   ]
  },
  {
   "cell_type": "code",
   "execution_count": 4,
   "metadata": {},
   "outputs": [],
   "source": [
    "rest_nv=df_restaurants_nv[\"name\"].value_counts()\n",
    "restnotchain_nv=[]\n",
    "for j in range(0,len(rest_nv)):\n",
    "    if rest_nv[j]==1:\n",
    "        restnotchain_nv.append(rest_nv.index[j])\n",
    "\n",
    "rest_az=df_restaurants_az[\"name\"].value_counts()\n",
    "restnotchain_az=[]\n",
    "for j in range(0,len(rest_az)):\n",
    "    if rest_az[j]==1:\n",
    "        restnotchain_az.append(rest_az.index[j])\n",
    "\n",
    "rest_nc=df_restaurants_nc[\"name\"].value_counts()\n",
    "restnotchain_nc=[]\n",
    "for j in range(0,len(rest_nc)):\n",
    "    if rest_nc[j]==1:\n",
    "        restnotchain_nc.append(rest_nc.index[j])\n",
    "\n",
    "rest_pa=df_restaurants_pa[\"name\"].value_counts()\n",
    "restnotchain_pa=[]\n",
    "for j in range(0,len(rest_pa)):\n",
    "    if rest_pa[j]==1:\n",
    "        restnotchain_pa.append(rest_pa.index[j])"
   ]
  },
  {
   "cell_type": "markdown",
   "metadata": {},
   "source": [
    "step 4: use stem package to filter out the repetitive names(eg. same name in single, plural) and substitute dataframe \"name\" column with the new stemmed names."
   ]
  },
  {
   "cell_type": "code",
   "execution_count": 6,
   "metadata": {},
   "outputs": [
    {
     "name": "stderr",
     "output_type": "stream",
     "text": [
      "/anaconda3/lib/python3.6/site-packages/ipykernel_launcher.py:7: SettingWithCopyWarning: \n",
      "A value is trying to be set on a copy of a slice from a DataFrame.\n",
      "Try using .loc[row_indexer,col_indexer] = value instead\n",
      "\n",
      "See the caveats in the documentation: http://pandas.pydata.org/pandas-docs/stable/indexing.html#indexing-view-versus-copy\n",
      "  import sys\n",
      "/anaconda3/lib/python3.6/site-packages/ipykernel_launcher.py:12: SettingWithCopyWarning: \n",
      "A value is trying to be set on a copy of a slice from a DataFrame.\n",
      "Try using .loc[row_indexer,col_indexer] = value instead\n",
      "\n",
      "See the caveats in the documentation: http://pandas.pydata.org/pandas-docs/stable/indexing.html#indexing-view-versus-copy\n",
      "  if sys.path[0] == '':\n",
      "/anaconda3/lib/python3.6/site-packages/ipykernel_launcher.py:17: SettingWithCopyWarning: \n",
      "A value is trying to be set on a copy of a slice from a DataFrame.\n",
      "Try using .loc[row_indexer,col_indexer] = value instead\n",
      "\n",
      "See the caveats in the documentation: http://pandas.pydata.org/pandas-docs/stable/indexing.html#indexing-view-versus-copy\n",
      "/anaconda3/lib/python3.6/site-packages/ipykernel_launcher.py:22: SettingWithCopyWarning: \n",
      "A value is trying to be set on a copy of a slice from a DataFrame.\n",
      "Try using .loc[row_indexer,col_indexer] = value instead\n",
      "\n",
      "See the caveats in the documentation: http://pandas.pydata.org/pandas-docs/stable/indexing.html#indexing-view-versus-copy\n"
     ]
    }
   ],
   "source": [
    "from nltk.stem import LancasterStemmer\n",
    "lancaster=LancasterStemmer()\n",
    "\n",
    "name_List_stem=[]\n",
    "for i in df_restaurants_nv[\"name\"]:\n",
    "    name_List_stem.append(lancaster.stem(i))\n",
    "df_restaurants_nv[\"name\"]=name_List_stem\n",
    "\n",
    "name_List_stem_az=[]\n",
    "for i in df_restaurants_az[\"name\"]:\n",
    "    name_List_stem_az.append(lancaster.stem(i))\n",
    "df_restaurants_az[\"name\"]=name_List_stem_az\n",
    "\n",
    "name_List_stem_nc=[]\n",
    "for i in df_restaurants_nc[\"name\"]:\n",
    "    name_List_stem_nc.append(lancaster.stem(i))\n",
    "df_restaurants_nc[\"name\"]=name_List_stem_nc\n",
    "\n",
    "name_List_stem_pa=[]\n",
    "for i in df_restaurants_pa[\"name\"]:\n",
    "    name_List_stem_pa.append(lancaster.stem(i))\n",
    "df_restaurants_pa[\"name\"]=name_List_stem_pa"
   ]
  },
  {
   "cell_type": "markdown",
   "metadata": {},
   "source": [
    "step 5: Create a list which contains all the restaurants names which are the chain restaurants."
   ]
  },
  {
   "cell_type": "code",
   "execution_count": 7,
   "metadata": {},
   "outputs": [],
   "source": [
    "stem_rest_notchain_nv=[lancaster.stem(i) for i in restnotchain_nv]\n",
    "restchain_nv=[]\n",
    "for j in range(0,len(rest_nv)):\n",
    "    if rest_nv[j]>1:\n",
    "        restchain_nv.append(rest_nv.index[j])\n",
    "stem_rest_chain_nv=[lancaster.stem(i) for i in restchain_nv ]\n",
    "\n",
    "stem_rest_notchain_az=[lancaster.stem(i) for i in restnotchain_az]\n",
    "restchain_az=[]\n",
    "for j in range(0,len(rest_az)):\n",
    "    if rest_az[j]>1:\n",
    "        restchain_az.append(rest_az.index[j])\n",
    "stem_rest_chain_az=[lancaster.stem(i) for i in restchain_az ]\n",
    "\n",
    "stem_rest_notchain_nc=[lancaster.stem(i) for i in restnotchain_nc]\n",
    "restchain_nc=[]\n",
    "for j in range(0,len(rest_nc)):\n",
    "    if rest_nc[j]>1:\n",
    "        restchain_nc.append(rest_nc.index[j])\n",
    "stem_rest_chain_nc=[lancaster.stem(i) for i in restchain_nc ]\n",
    "\n",
    "stem_rest_notchain_pa=[lancaster.stem(i) for i in restnotchain_pa]\n",
    "restchain_pa=[]\n",
    "for j in range(0,len(rest_pa)):\n",
    "    if rest_pa[j]>1:\n",
    "        restchain_pa.append(rest_pa.index[j])\n",
    "stem_rest_chain_pa=[lancaster.stem(i) for i in restchain_pa ]\n",
    "\n",
    "\n"
   ]
  },
  {
   "cell_type": "markdown",
   "metadata": {},
   "source": [
    "step 6: Now we assign 1 to chain restuarants and 0 to non-chain restaurants."
   ]
  },
  {
   "cell_type": "code",
   "execution_count": null,
   "metadata": {},
   "outputs": [],
   "source": [
    "for names in stem_rest_chain_nv:\n",
    "    df_restaurants_nv[\"name\"][df_restaurants_nv[\"name\"]==names]=1\n",
    "for names in stem_rest_notchain_nv:\n",
    "     df_restaurants_nv[\"name\"][df_restaurants_nv[\"name\"]==names]=0\n",
    "\n",
    "for names in stem_rest_chain_az:\n",
    "    df_restaurants_az[\"name\"][df_restaurants_az[\"name\"]==names]=1\n",
    "for names in stem_rest_notchain_az:\n",
    "     df_restaurants_az[\"name\"][df_restaurants_az[\"name\"]==names]=0\n",
    "\n",
    "for names in stem_rest_chain_nc:\n",
    "    df_restaurants_nc[\"name\"][df_restaurants_nc[\"name\"]==names]=1\n",
    "for names in stem_rest_notchain_nc:\n",
    "     df_restaurants_nc[\"name\"][df_restaurants_nc[\"name\"]==names]=0\n",
    "\n",
    "for names in stem_rest_chain_pa:\n",
    "    df_restaurants_pa[\"name\"][df_restaurants_pa[\"name\"]==names]=1\n",
    "for names in stem_rest_notchain_pa:\n",
    "     df_restaurants_pa[\"name\"][df_restaurants_pa[\"name\"]==names]=0"
   ]
  }
 ],
 "metadata": {
  "kernelspec": {
   "display_name": "Python 3",
   "language": "python",
   "name": "python3"
  },
  "language_info": {
   "codemirror_mode": {
    "name": "ipython",
    "version": 3
   },
   "file_extension": ".py",
   "mimetype": "text/x-python",
   "name": "python",
   "nbconvert_exporter": "python",
   "pygments_lexer": "ipython3",
   "version": "3.6.5"
  }
 },
 "nbformat": 4,
 "nbformat_minor": 2
}
